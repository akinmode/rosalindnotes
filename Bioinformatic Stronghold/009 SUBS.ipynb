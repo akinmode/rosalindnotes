{
 "cells": [
  {
   "cell_type": "markdown",
   "metadata": {},
   "source": [
    "# Finding a Motif in DNA"
   ]
  },
  {
   "cell_type": "code",
   "execution_count": 38,
   "metadata": {},
   "outputs": [],
   "source": [
    "sample = \"GATATATGCATATACTT\"\n",
    "sub = \"ATAT\""
   ]
  },
  {
   "cell_type": "code",
   "execution_count": 39,
   "metadata": {},
   "outputs": [],
   "source": [
    "def find_motif(sample, sub):\n",
    "    return [str(i+1) for i in range(int(len(sample))) if sample[i:i+int(len(sub))] == sub]"
   ]
  },
  {
   "cell_type": "code",
   "execution_count": 40,
   "metadata": {},
   "outputs": [
    {
     "data": {
      "text/plain": [
       "['2', '4', '10']"
      ]
     },
     "execution_count": 40,
     "metadata": {},
     "output_type": "execute_result"
    }
   ],
   "source": [
    "find_motif(sample, sub)"
   ]
  },
  {
   "cell_type": "code",
   "execution_count": 43,
   "metadata": {},
   "outputs": [],
   "source": [
    "test = \"CAGAAAGCTCGCTGAAAGCTGAGCCGGAAAGCTCGAAAGCTGAAAGCTTGAAAGCTTCGAAAGCTTCGCAGAAAGCTCGGAAAGCTATGAAAGCTTGTGAAAGCTGGGAGAAAGCTCCATGGGAAAGCTGAGAAAGCTGAAAGCTGAAAGCTCCCCGAAAGCTCGTACATCGAGAAAGCTGGAGAAAGCTTATCCCTCATGAAAGCTGAGAAAGCTCCTCGAAAGCTGACGAAAGCTAATGAAAATGGAAAGCTGGAAAGCTTATGGAAAGCTGAAAGCTGAAAGCTTGAAAGCTAGAAAGCTTAAAGAAAGCTTGGAAAGCTGTGAGAAAGCTGAAAGCTCGCGGAAAGCTTGAAAGCTTAAGAAAGCTGAAAGCTCAGAAAGCTCGAAAGCTGAAAGCTGAAAGCTGCACCTATCGAACAGAAAGCTGAAAGCTGAAAGCTACGATGAAAGCTCAGAAAGCTGAAAGCTCGAAGAGCCCCAGAAAGCTGAAAGCTTTATCGCACCGAAAGCTGTGATCTTCACGTGAAAGCTGGAAAGCTGAAAGCTAGGAAAGCTGCCTGAGAAAGCTGCCGCTAGAAAGCTGTTGAAAGCTGAAAGCTGGAAAGCTGAAAGCTGAAAGCTCCGTAAGCGAAAGCTCCGAGCCGAAAGCTGTGAAAGCTGAAAGCTAGAAAGCTTTGTGAAAGCTGCTGGAAAGCTTGGAAAGCTAGAAAGCTTGAAAGCTCCACCTGAAAGCTTCAAGTGGAAAGCTAGAAAGCTGAAAGCTGAAAGCTGAAAGCTGAAAGCTCCTGAAAGCTTGAAAGCTAAGAAAGCTAGAAAGCTCGGAAAGCTTCGAAAGCTATCAGAAAGCTAGAAAGCT\"\n",
    "test_sub = \"GAAAGCTGA\""
   ]
  },
  {
   "cell_type": "code",
   "execution_count": 44,
   "metadata": {},
   "outputs": [
    {
     "name": "stdout",
     "output_type": "stream",
     "text": [
      "14 35 123 132 139 201 221 267 274 328 364 388 395 423 430 458 484 536 589 604 611 656 753 760 767 774\n"
     ]
    }
   ],
   "source": [
    "print(\" \".join(find_motif(test, test_sub)))"
   ]
  },
  {
   "cell_type": "code",
   "execution_count": null,
   "metadata": {},
   "outputs": [],
   "source": []
  }
 ],
 "metadata": {
  "kernelspec": {
   "display_name": "Python 3",
   "language": "python",
   "name": "python3"
  },
  "language_info": {
   "codemirror_mode": {
    "name": "ipython",
    "version": 3
   },
   "file_extension": ".py",
   "mimetype": "text/x-python",
   "name": "python",
   "nbconvert_exporter": "python",
   "pygments_lexer": "ipython3",
   "version": "3.6.4"
  }
 },
 "nbformat": 4,
 "nbformat_minor": 2
}
