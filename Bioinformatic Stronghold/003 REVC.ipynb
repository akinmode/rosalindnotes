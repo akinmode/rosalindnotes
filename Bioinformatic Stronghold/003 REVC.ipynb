{
 "cells": [
  {
   "cell_type": "markdown",
   "metadata": {},
   "source": [
    "# Complementing a Strand of DNA"
   ]
  },
  {
   "cell_type": "code",
   "execution_count": 2,
   "metadata": {},
   "outputs": [],
   "source": [
    "sample = \"AAAACCCGGT\""
   ]
  },
  {
   "cell_type": "code",
   "execution_count": 23,
   "metadata": {},
   "outputs": [],
   "source": [
    "def complement_dna(sample):\n",
    "    comp = {'A': 'T', 'C':'G', 'G':'C', 'T':'A'}\n",
    "    return \"\".join(reversed([comp[i] for i in sample]))"
   ]
  },
  {
   "cell_type": "code",
   "execution_count": 24,
   "metadata": {},
   "outputs": [
    {
     "data": {
      "text/plain": [
       "'ACCGGGTTTT'"
      ]
     },
     "execution_count": 24,
     "metadata": {},
     "output_type": "execute_result"
    }
   ],
   "source": [
    "complement_dna(sample)"
   ]
  },
  {
   "cell_type": "code",
   "execution_count": 25,
   "metadata": {},
   "outputs": [],
   "source": [
    "test = \"ACTTCTTGCGCTTGGGCAGTACTGCCAATTCGATACCAGAATTAGATCCGGGAGAACGGGTGTTGTACTGGATATGGTAATTGTCGGACGCTCTCCTCGTGACCACCAGAGACAACTGGGCGTCAGAATCGTTCTGCAATGGGATCTTGGGTCACTCTATCTCTTTTTCACAATATCACTGCAGCTCTATATCGCTAAGATCGTTCGTTGTCCAGGCCGTGTGCCGAGAAGCGGGGATTAGTCAGTTTGTCTTCTCTATTGACTCATTTGCCCTACTGGACTTAAACATGCCCAGGCATAAATAAGTCGTAGCGAGCTGACGCCACTGCATAGTACAGTAGTTCACGTCTTCGTACTAAGTATCGATCTCCGCCAAATGGGGCTAGGTTTCATTCTGGACGATTTGCTGCCCTTCGCCGCGCATCTGGAACTTCCCGGCCAGGAATAATCGATGGGGAGGTTACAAAATTGTAGCTCTCCAAAGAATGGAAGACTACATAATCATGTCCACAGCGTATGCAGTGCTCTTTCCTGTTTCTTTGATTTACCCGTGGTTGGTGTTTACTTCCCGGTAGAGGATGCAGTTTCAACTTTGGGTCCGACCAATCGTGGCTTACAAGTGTTAAAGTGCGTTTCTCTGTGAGTGGACAGGCGGCGGCGGTGACCCGTTGGCCTAAGCAGGAAGTTTCTATCTCCTGAACAGAGAGTCCTACCGACTAAGCCTTATACCACATTTTCGCTATGTTAAACTTAAGTGAACTGGAGCCTTTTTTTGTAGAGTGACCCCCTTGTAGTGAAATCGGTCGTTTGTGGTTCCCTGGTTGATTATTTGGGGAATATACGGATCAGATGGATTCATCAAT\""
   ]
  },
  {
   "cell_type": "code",
   "execution_count": 26,
   "metadata": {},
   "outputs": [
    {
     "data": {
      "text/plain": [
       "'ATTGATGAATCCATCTGATCCGTATATTCCCCAAATAATCAACCAGGGAACCACAAACGACCGATTTCACTACAAGGGGGTCACTCTACAAAAAAAGGCTCCAGTTCACTTAAGTTTAACATAGCGAAAATGTGGTATAAGGCTTAGTCGGTAGGACTCTCTGTTCAGGAGATAGAAACTTCCTGCTTAGGCCAACGGGTCACCGCCGCCGCCTGTCCACTCACAGAGAAACGCACTTTAACACTTGTAAGCCACGATTGGTCGGACCCAAAGTTGAAACTGCATCCTCTACCGGGAAGTAAACACCAACCACGGGTAAATCAAAGAAACAGGAAAGAGCACTGCATACGCTGTGGACATGATTATGTAGTCTTCCATTCTTTGGAGAGCTACAATTTTGTAACCTCCCCATCGATTATTCCTGGCCGGGAAGTTCCAGATGCGCGGCGAAGGGCAGCAAATCGTCCAGAATGAAACCTAGCCCCATTTGGCGGAGATCGATACTTAGTACGAAGACGTGAACTACTGTACTATGCAGTGGCGTCAGCTCGCTACGACTTATTTATGCCTGGGCATGTTTAAGTCCAGTAGGGCAAATGAGTCAATAGAGAAGACAAACTGACTAATCCCCGCTTCTCGGCACACGGCCTGGACAACGAACGATCTTAGCGATATAGAGCTGCAGTGATATTGTGAAAAAGAGATAGAGTGACCCAAGATCCCATTGCAGAACGATTCTGACGCCCAGTTGTCTCTGGTGGTCACGAGGAGAGCGTCCGACAATTACCATATCCAGTACAACACCCGTTCTCCCGGATCTAATTCTGGTATCGAATTGGCAGTACTGCCCAAGCGCAAGAAGT'"
      ]
     },
     "execution_count": 26,
     "metadata": {},
     "output_type": "execute_result"
    }
   ],
   "source": [
    "complement_dna(test)"
   ]
  },
  {
   "cell_type": "code",
   "execution_count": null,
   "metadata": {},
   "outputs": [],
   "source": []
  }
 ],
 "metadata": {
  "kernelspec": {
   "display_name": "Python 3",
   "language": "python",
   "name": "python3"
  },
  "language_info": {
   "codemirror_mode": {
    "name": "ipython",
    "version": 3
   },
   "file_extension": ".py",
   "mimetype": "text/x-python",
   "name": "python",
   "nbconvert_exporter": "python",
   "pygments_lexer": "ipython3",
   "version": "3.6.4"
  }
 },
 "nbformat": 4,
 "nbformat_minor": 2
}
