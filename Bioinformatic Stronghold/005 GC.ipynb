{
 "cells": [
  {
   "cell_type": "markdown",
   "metadata": {},
   "source": [
    "# Computing GC Content"
   ]
  },
  {
   "cell_type": "code",
   "execution_count": 73,
   "metadata": {},
   "outputs": [],
   "source": [
    "sample = open(\"005_gc.txt\", \"r\").read().split(\">\")\n",
    "del sample[0]"
   ]
  },
  {
   "cell_type": "code",
   "execution_count": 75,
   "metadata": {},
   "outputs": [],
   "source": [
    "sample = [i.split(\"\\n\", 1) for i in sample]"
   ]
  },
  {
   "cell_type": "code",
   "execution_count": 76,
   "metadata": {},
   "outputs": [
    {
     "data": {
      "text/plain": [
       "[['Rosalind_6404',\n",
       "  'CCTGCGGAAGATCGGCACTAGAATAGCCAGAACCGTTTCTCTGAGGCTTCCGGCCTTCCC\\nTCCCACTAATAATTCTGAGG\\n'],\n",
       " ['Rosalind_5959',\n",
       "  'CCATCGGTAGCGCATCCTTAGTCCAATTAAGTCCCTATCCAGGCGCTCCGCCGAAGGTCT\\nATATCCATTTGTCAGCAGACACGC\\n'],\n",
       " ['Rosalind_0808',\n",
       "  'CCACCCTCGTGGTATGGCTAGGCATTCAGGAACCGGAGAACGCTTCAGACCAGCCCGGAC\\nTGGGAACCTGCGGGCAGTAGGTGGAAT']]"
      ]
     },
     "execution_count": 76,
     "metadata": {},
     "output_type": "execute_result"
    }
   ],
   "source": [
    "sample"
   ]
  },
  {
   "cell_type": "code",
   "execution_count": 79,
   "metadata": {},
   "outputs": [],
   "source": [
    "def gc_content(sample):\n",
    "    return {i[0]: ((i[1].count('G')+i[1].count('C'))/len(i[1].replace(\"\\n\", \"\")))*100 for i in sample}"
   ]
  },
  {
   "cell_type": "code",
   "execution_count": 80,
   "metadata": {},
   "outputs": [
    {
     "data": {
      "text/plain": [
       "{'Rosalind_6404': 53.75,\n",
       " 'Rosalind_5959': 53.57142857142857,\n",
       " 'Rosalind_0808': 60.91954022988506}"
      ]
     },
     "execution_count": 80,
     "metadata": {},
     "output_type": "execute_result"
    }
   ],
   "source": [
    "gc_content(sample)"
   ]
  },
  {
   "cell_type": "code",
   "execution_count": 87,
   "metadata": {},
   "outputs": [],
   "source": [
    "test = open(\"005_gc_test.txt\", \"r\").read().split(\">\")\n",
    "del test[0]"
   ]
  },
  {
   "cell_type": "code",
   "execution_count": 88,
   "metadata": {},
   "outputs": [],
   "source": [
    "test = [i.split(\"\\n\", 1) for i in test]"
   ]
  },
  {
   "cell_type": "code",
   "execution_count": 89,
   "metadata": {},
   "outputs": [
    {
     "data": {
      "text/plain": [
       "{'Rosalind_3526': 50.46826222684704,\n",
       " 'Rosalind_9229': 52.422360248447205,\n",
       " 'Rosalind_6543': 53.28554360812425,\n",
       " 'Rosalind_1129': 51.252847380410024,\n",
       " 'Rosalind_7647': 52.91529152915292,\n",
       " 'Rosalind_0335': 49.066390041493776,\n",
       " 'Rosalind_6192': 49.642857142857146,\n",
       " 'Rosalind_8020': 50.15706806282723,\n",
       " 'Rosalind_7029': 52.15605749486652,\n",
       " 'Rosalind_3374': 48.372093023255815}"
      ]
     },
     "execution_count": 89,
     "metadata": {},
     "output_type": "execute_result"
    }
   ],
   "source": [
    "gc_content(test)"
   ]
  },
  {
   "cell_type": "code",
   "execution_count": null,
   "metadata": {},
   "outputs": [],
   "source": []
  }
 ],
 "metadata": {
  "kernelspec": {
   "display_name": "Python 3",
   "language": "python",
   "name": "python3"
  },
  "language_info": {
   "codemirror_mode": {
    "name": "ipython",
    "version": 3
   },
   "file_extension": ".py",
   "mimetype": "text/x-python",
   "name": "python",
   "nbconvert_exporter": "python",
   "pygments_lexer": "ipython3",
   "version": "3.6.4"
  }
 },
 "nbformat": 4,
 "nbformat_minor": 2
}
