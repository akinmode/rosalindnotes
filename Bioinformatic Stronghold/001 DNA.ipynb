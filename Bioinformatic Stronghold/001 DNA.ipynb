{
 "cells": [
  {
   "cell_type": "markdown",
   "metadata": {},
   "source": [
    "# Counting DNA Nucleotides"
   ]
  },
  {
   "cell_type": "code",
   "execution_count": 38,
   "metadata": {},
   "outputs": [],
   "source": [
    "sample = \"AGCTTTTCATTCTGACTGCAACGGGCAATATGTCTCTGTGTGGATTAAAAAAAGAGTGTCTGATAGCAGC\"\n",
    "test = \"CTACACACTAACCCGGTTACACGGTCGAGGGTCCAGCCGACAGCTATTTCGCCATGACACCCCTTAGGTGATCGTGGTATAAATTGCCCTCTTAAAAAAAGCCGGGATCACCAGTTGCGACCAAAGCGCATTAATTATACCACTCTCACGATGGTCAAAGTATATGCCCGCGCCGGGCGGCTTACCGCCTCACCGCCTCCCCAGTTAGAGATGCAGCGACGTGCAAGTGAGAGTCCAATGGATCTGTTACGGCCGGTTGCGGTAAAGATTCGTTATCTTCGTTCAAAGACGATTCGCAGACAGTGGACCGAGACCGATTTGAGCATGAAATGCGATCAAAGCGAATTCGTGCAAGGGTCTTATCACCGTGCCCCTATGCTGCCTCCGGTTCCAGATCGGCTCGCAAATAGTGTTTTTCACTGTAGACAGGTTGCTTTGTGTGCGCAATCCGCGTCTCCGATAAACTTGATGTTGTATATAAGTCTCGCCATGTGACAGGGATCTACCTCCACTTACCAGTTAAGGTTATGGTCTATCAGGCTCTGCAACTGGCAACCAATACTCGCATGGCCCACAGCTGGTAACAACGCCAGGGTCGAAAGAGTTGGGGTTTGTACGGGAAACCAGATTGCGCGACACCGCCTAGCGTTAGCGAGGAGTTGGTCCCACATCATGCATGAGATTAGCTCCCAAGGTCACTGCCCGGCGCCATCAATGGGTTACTTCTCAGATGGCCATATTACTGGTGGCGTTACAGGGTATAAATCCGAATGACGCCACTGGCCTTACGACGCCCATTGACGACATTAGGGGAGGCCACCACGATCAAGTCAGACAGCTTGAGAGACAGGTATGGGAAAAAAACCCCCACTATACTCGATCCAAACAACATATTTATACATGCAAGCCGCTGCGGTG\""
   ]
  },
  {
   "cell_type": "code",
   "execution_count": 39,
   "metadata": {},
   "outputs": [],
   "source": [
    "def count_nucleotides(sample):\n",
    "    return {i:sample.count(i) for i in sample}"
   ]
  },
  {
   "cell_type": "code",
   "execution_count": 37,
   "metadata": {},
   "outputs": [
    {
     "data": {
      "text/plain": [
       "{'A': 20, 'G': 17, 'C': 12, 'T': 21}"
      ]
     },
     "execution_count": 37,
     "metadata": {},
     "output_type": "execute_result"
    }
   ],
   "source": [
    "count_nucleotides(sample)"
   ]
  },
  {
   "cell_type": "code",
   "execution_count": 40,
   "metadata": {},
   "outputs": [
    {
     "data": {
      "text/plain": [
       "{'C': 245, 'T': 210, 'A': 235, 'G': 228}"
      ]
     },
     "execution_count": 40,
     "metadata": {},
     "output_type": "execute_result"
    }
   ],
   "source": [
    "count_nucleotides(test)"
   ]
  },
  {
   "cell_type": "code",
   "execution_count": null,
   "metadata": {},
   "outputs": [],
   "source": []
  }
 ],
 "metadata": {
  "kernelspec": {
   "display_name": "Python 3",
   "language": "python",
   "name": "python3"
  },
  "language_info": {
   "codemirror_mode": {
    "name": "ipython",
    "version": 3
   },
   "file_extension": ".py",
   "mimetype": "text/x-python",
   "name": "python",
   "nbconvert_exporter": "python",
   "pygments_lexer": "ipython3",
   "version": "3.6.4"
  }
 },
 "nbformat": 4,
 "nbformat_minor": 2
}
